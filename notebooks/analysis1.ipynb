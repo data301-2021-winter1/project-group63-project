{
 "cells": [
  {
   "cell_type": "markdown",
   "metadata": {},
   "source": [
    "# Yu Tian "
   ]
  },
  {
   "cell_type": "code",
   "execution_count": 30,
   "metadata": {},
   "outputs": [],
   "source": [
    "import pandas as pd\n",
    "import seaborn as sns\n",
    "import numpy as np\n",
    "import matplotlib.pylab as plt\n"
   ]
  },
  {
   "cell_type": "markdown",
   "metadata": {},
   "source": [
    "### Research Question & interests\n",
    "which song stayed at the board the longest?\n",
    "\n",
    "which artist has the most songs that entered billboard?\n",
    "\n",
    "What is the relation between each column?"
   ]
  },
  {
   "cell_type": "code",
   "execution_count": 31,
   "metadata": {},
   "outputs": [
    {
     "data": {
      "text/html": [
       "<div>\n",
       "<style scoped>\n",
       "    .dataframe tbody tr th:only-of-type {\n",
       "        vertical-align: middle;\n",
       "    }\n",
       "\n",
       "    .dataframe tbody tr th {\n",
       "        vertical-align: top;\n",
       "    }\n",
       "\n",
       "    .dataframe thead th {\n",
       "        text-align: right;\n",
       "    }\n",
       "</style>\n",
       "<table border=\"1\" class=\"dataframe\">\n",
       "  <thead>\n",
       "    <tr style=\"text-align: right;\">\n",
       "      <th></th>\n",
       "      <th>rank</th>\n",
       "      <th>song</th>\n",
       "      <th>artist</th>\n",
       "      <th>last-week</th>\n",
       "      <th>peak-rank</th>\n",
       "      <th>weeks-on-board</th>\n",
       "      <th>date</th>\n",
       "    </tr>\n",
       "  </thead>\n",
       "  <tbody>\n",
       "    <tr>\n",
       "      <th>0</th>\n",
       "      <td>1</td>\n",
       "      <td>Butter</td>\n",
       "      <td>BTS</td>\n",
       "      <td>1.0</td>\n",
       "      <td>1</td>\n",
       "      <td>7</td>\n",
       "      <td>2021-07-17</td>\n",
       "    </tr>\n",
       "    <tr>\n",
       "      <th>1</th>\n",
       "      <td>2</td>\n",
       "      <td>Good 4 U</td>\n",
       "      <td>Olivia Rodrigo</td>\n",
       "      <td>2.0</td>\n",
       "      <td>1</td>\n",
       "      <td>8</td>\n",
       "      <td>2021-07-17</td>\n",
       "    </tr>\n",
       "    <tr>\n",
       "      <th>2</th>\n",
       "      <td>3</td>\n",
       "      <td>Levitating</td>\n",
       "      <td>Dua Lipa Featuring DaBaby</td>\n",
       "      <td>4.0</td>\n",
       "      <td>2</td>\n",
       "      <td>40</td>\n",
       "      <td>2021-07-17</td>\n",
       "    </tr>\n",
       "    <tr>\n",
       "      <th>3</th>\n",
       "      <td>4</td>\n",
       "      <td>Kiss Me More</td>\n",
       "      <td>Doja Cat Featuring SZA</td>\n",
       "      <td>3.0</td>\n",
       "      <td>3</td>\n",
       "      <td>13</td>\n",
       "      <td>2021-07-17</td>\n",
       "    </tr>\n",
       "    <tr>\n",
       "      <th>4</th>\n",
       "      <td>5</td>\n",
       "      <td>Montero (Call Me By Your Name)</td>\n",
       "      <td>Lil Nas X</td>\n",
       "      <td>8.0</td>\n",
       "      <td>1</td>\n",
       "      <td>15</td>\n",
       "      <td>2021-07-17</td>\n",
       "    </tr>\n",
       "    <tr>\n",
       "      <th>...</th>\n",
       "      <td>...</td>\n",
       "      <td>...</td>\n",
       "      <td>...</td>\n",
       "      <td>...</td>\n",
       "      <td>...</td>\n",
       "      <td>...</td>\n",
       "      <td>...</td>\n",
       "    </tr>\n",
       "    <tr>\n",
       "      <th>328482</th>\n",
       "      <td>96</td>\n",
       "      <td>Over And Over</td>\n",
       "      <td>Thurston Harris</td>\n",
       "      <td>NaN</td>\n",
       "      <td>96</td>\n",
       "      <td>1</td>\n",
       "      <td>1958-08-04</td>\n",
       "    </tr>\n",
       "    <tr>\n",
       "      <th>328483</th>\n",
       "      <td>97</td>\n",
       "      <td>I Believe In You</td>\n",
       "      <td>Robert &amp; Johnny</td>\n",
       "      <td>NaN</td>\n",
       "      <td>97</td>\n",
       "      <td>1</td>\n",
       "      <td>1958-08-04</td>\n",
       "    </tr>\n",
       "    <tr>\n",
       "      <th>328484</th>\n",
       "      <td>98</td>\n",
       "      <td>Little Serenade</td>\n",
       "      <td>The Ames Brothers</td>\n",
       "      <td>NaN</td>\n",
       "      <td>98</td>\n",
       "      <td>1</td>\n",
       "      <td>1958-08-04</td>\n",
       "    </tr>\n",
       "    <tr>\n",
       "      <th>328485</th>\n",
       "      <td>99</td>\n",
       "      <td>I'll Get By (As Long As I Have You)</td>\n",
       "      <td>Billy Williams</td>\n",
       "      <td>NaN</td>\n",
       "      <td>99</td>\n",
       "      <td>1</td>\n",
       "      <td>1958-08-04</td>\n",
       "    </tr>\n",
       "    <tr>\n",
       "      <th>328486</th>\n",
       "      <td>100</td>\n",
       "      <td>Judy</td>\n",
       "      <td>Frankie Vaughan</td>\n",
       "      <td>NaN</td>\n",
       "      <td>100</td>\n",
       "      <td>1</td>\n",
       "      <td>1958-08-04</td>\n",
       "    </tr>\n",
       "  </tbody>\n",
       "</table>\n",
       "<p>328487 rows × 7 columns</p>\n",
       "</div>"
      ],
      "text/plain": [
       "        rank                                 song                     artist  \\\n",
       "0          1                               Butter                        BTS   \n",
       "1          2                             Good 4 U             Olivia Rodrigo   \n",
       "2          3                           Levitating  Dua Lipa Featuring DaBaby   \n",
       "3          4                         Kiss Me More     Doja Cat Featuring SZA   \n",
       "4          5       Montero (Call Me By Your Name)                  Lil Nas X   \n",
       "...      ...                                  ...                        ...   \n",
       "328482    96                        Over And Over            Thurston Harris   \n",
       "328483    97                     I Believe In You            Robert & Johnny   \n",
       "328484    98                      Little Serenade          The Ames Brothers   \n",
       "328485    99  I'll Get By (As Long As I Have You)             Billy Williams   \n",
       "328486   100                                 Judy            Frankie Vaughan   \n",
       "\n",
       "        last-week  peak-rank  weeks-on-board        date  \n",
       "0             1.0          1               7  2021-07-17  \n",
       "1             2.0          1               8  2021-07-17  \n",
       "2             4.0          2              40  2021-07-17  \n",
       "3             3.0          3              13  2021-07-17  \n",
       "4             8.0          1              15  2021-07-17  \n",
       "...           ...        ...             ...         ...  \n",
       "328482        NaN         96               1  1958-08-04  \n",
       "328483        NaN         97               1  1958-08-04  \n",
       "328484        NaN         98               1  1958-08-04  \n",
       "328485        NaN         99               1  1958-08-04  \n",
       "328486        NaN        100               1  1958-08-04  \n",
       "\n",
       "[328487 rows x 7 columns]"
      ]
     },
     "execution_count": 31,
     "metadata": {},
     "output_type": "execute_result"
    }
   ],
   "source": [
    "df=pd.read_csv(\"D:\\charts.csv.zip\")\n",
    "#Loading data\n",
    "df"
   ]
  },
  {
   "cell_type": "markdown",
   "metadata": {},
   "source": [
    "### Exploratory Data Analysis & Pipeline"
   ]
  },
  {
   "cell_type": "code",
   "execution_count": 32,
   "metadata": {},
   "outputs": [
    {
     "data": {
      "text/plain": [
       "Index(['rank', 'song', 'artist', 'last-week', 'peak-rank', 'weeks-on-board',\n",
       "       'date'],\n",
       "      dtype='object')"
      ]
     },
     "execution_count": 32,
     "metadata": {},
     "output_type": "execute_result"
    }
   ],
   "source": [
    "df.columns"
   ]
  },
  {
   "cell_type": "code",
   "execution_count": 38,
   "metadata": {},
   "outputs": [
    {
     "data": {
      "text/html": [
       "<div>\n",
       "<style scoped>\n",
       "    .dataframe tbody tr th:only-of-type {\n",
       "        vertical-align: middle;\n",
       "    }\n",
       "\n",
       "    .dataframe tbody tr th {\n",
       "        vertical-align: top;\n",
       "    }\n",
       "\n",
       "    .dataframe thead th {\n",
       "        text-align: right;\n",
       "    }\n",
       "</style>\n",
       "<table border=\"1\" class=\"dataframe\">\n",
       "  <thead>\n",
       "    <tr style=\"text-align: right;\">\n",
       "      <th></th>\n",
       "      <th>rank</th>\n",
       "      <th>song</th>\n",
       "      <th>artist</th>\n",
       "      <th>last-week</th>\n",
       "      <th>peak-rank</th>\n",
       "      <th>weeks-on-board</th>\n",
       "      <th>date</th>\n",
       "    </tr>\n",
       "  </thead>\n",
       "  <tbody>\n",
       "    <tr>\n",
       "      <th>0</th>\n",
       "      <td>1</td>\n",
       "      <td>Butter</td>\n",
       "      <td>BTS</td>\n",
       "      <td>1.0</td>\n",
       "      <td>1</td>\n",
       "      <td>7</td>\n",
       "      <td>2021-07-17</td>\n",
       "    </tr>\n",
       "    <tr>\n",
       "      <th>1</th>\n",
       "      <td>2</td>\n",
       "      <td>Good 4 U</td>\n",
       "      <td>Olivia Rodrigo</td>\n",
       "      <td>2.0</td>\n",
       "      <td>1</td>\n",
       "      <td>8</td>\n",
       "      <td>2021-07-17</td>\n",
       "    </tr>\n",
       "    <tr>\n",
       "      <th>2</th>\n",
       "      <td>3</td>\n",
       "      <td>Levitating</td>\n",
       "      <td>Dua Lipa Featuring DaBaby</td>\n",
       "      <td>4.0</td>\n",
       "      <td>2</td>\n",
       "      <td>40</td>\n",
       "      <td>2021-07-17</td>\n",
       "    </tr>\n",
       "    <tr>\n",
       "      <th>3</th>\n",
       "      <td>4</td>\n",
       "      <td>Kiss Me More</td>\n",
       "      <td>Doja Cat Featuring SZA</td>\n",
       "      <td>3.0</td>\n",
       "      <td>3</td>\n",
       "      <td>13</td>\n",
       "      <td>2021-07-17</td>\n",
       "    </tr>\n",
       "    <tr>\n",
       "      <th>4</th>\n",
       "      <td>5</td>\n",
       "      <td>Montero (Call Me By Your Name)</td>\n",
       "      <td>Lil Nas X</td>\n",
       "      <td>8.0</td>\n",
       "      <td>1</td>\n",
       "      <td>15</td>\n",
       "      <td>2021-07-17</td>\n",
       "    </tr>\n",
       "    <tr>\n",
       "      <th>...</th>\n",
       "      <td>...</td>\n",
       "      <td>...</td>\n",
       "      <td>...</td>\n",
       "      <td>...</td>\n",
       "      <td>...</td>\n",
       "      <td>...</td>\n",
       "      <td>...</td>\n",
       "    </tr>\n",
       "    <tr>\n",
       "      <th>159995</th>\n",
       "      <td>96</td>\n",
       "      <td>Doin' The Do</td>\n",
       "      <td>Betty Boo</td>\n",
       "      <td>91.0</td>\n",
       "      <td>90</td>\n",
       "      <td>4</td>\n",
       "      <td>1990-11-24</td>\n",
       "    </tr>\n",
       "    <tr>\n",
       "      <th>159996</th>\n",
       "      <td>97</td>\n",
       "      <td>Release Me</td>\n",
       "      <td>Wilson Phillips</td>\n",
       "      <td>79.0</td>\n",
       "      <td>1</td>\n",
       "      <td>22</td>\n",
       "      <td>1990-11-24</td>\n",
       "    </tr>\n",
       "    <tr>\n",
       "      <th>159997</th>\n",
       "      <td>98</td>\n",
       "      <td>Let's Try It Again</td>\n",
       "      <td>New Kids On The Block</td>\n",
       "      <td>78.0</td>\n",
       "      <td>53</td>\n",
       "      <td>8</td>\n",
       "      <td>1990-11-24</td>\n",
       "    </tr>\n",
       "    <tr>\n",
       "      <th>159998</th>\n",
       "      <td>99</td>\n",
       "      <td>Love Is The Ritual</td>\n",
       "      <td>Styx</td>\n",
       "      <td>88.0</td>\n",
       "      <td>80</td>\n",
       "      <td>6</td>\n",
       "      <td>1990-11-24</td>\n",
       "    </tr>\n",
       "    <tr>\n",
       "      <th>159999</th>\n",
       "      <td>100</td>\n",
       "      <td>Falling To Pieces</td>\n",
       "      <td>Faith No More</td>\n",
       "      <td>93.0</td>\n",
       "      <td>92</td>\n",
       "      <td>3</td>\n",
       "      <td>1990-11-24</td>\n",
       "    </tr>\n",
       "  </tbody>\n",
       "</table>\n",
       "<p>160000 rows × 7 columns</p>\n",
       "</div>"
      ],
      "text/plain": [
       "        rank                            song                     artist  \\\n",
       "0          1                          Butter                        BTS   \n",
       "1          2                        Good 4 U             Olivia Rodrigo   \n",
       "2          3                      Levitating  Dua Lipa Featuring DaBaby   \n",
       "3          4                    Kiss Me More     Doja Cat Featuring SZA   \n",
       "4          5  Montero (Call Me By Your Name)                  Lil Nas X   \n",
       "...      ...                             ...                        ...   \n",
       "159995    96                    Doin' The Do                  Betty Boo   \n",
       "159996    97                      Release Me            Wilson Phillips   \n",
       "159997    98              Let's Try It Again      New Kids On The Block   \n",
       "159998    99              Love Is The Ritual                       Styx   \n",
       "159999   100               Falling To Pieces              Faith No More   \n",
       "\n",
       "        last-week  peak-rank  weeks-on-board        date  \n",
       "0             1.0          1               7  2021-07-17  \n",
       "1             2.0          1               8  2021-07-17  \n",
       "2             4.0          2              40  2021-07-17  \n",
       "3             3.0          3              13  2021-07-17  \n",
       "4             8.0          1              15  2021-07-17  \n",
       "...           ...        ...             ...         ...  \n",
       "159995       91.0         90               4  1990-11-24  \n",
       "159996       79.0          1              22  1990-11-24  \n",
       "159997       78.0         53               8  1990-11-24  \n",
       "159998       88.0         80               6  1990-11-24  \n",
       "159999       93.0         92               3  1990-11-24  \n",
       "\n",
       "[160000 rows x 7 columns]"
      ]
     },
     "execution_count": 38,
     "metadata": {},
     "output_type": "execute_result"
    }
   ],
   "source": [
    "df=df.drop(df.index[160000:328487])\n",
    "#reduced the dataset into half, which is more recent music\n",
    "df"
   ]
  },
  {
   "cell_type": "code",
   "execution_count": 42,
   "metadata": {},
   "outputs": [
    {
     "data": {
      "text/plain": [
       "rank                100\n",
       "song              10630\n",
       "artist             5421\n",
       "last-week           100\n",
       "peak-rank           100\n",
       "weeks-on-board       87\n",
       "date               1600\n",
       "dtype: int64"
      ]
     },
     "execution_count": 42,
     "metadata": {},
     "output_type": "execute_result"
    }
   ],
   "source": [
    "df.nunique(axis=0)\n",
    "#There are 10630 songs in total. 5421 artist and one song stayed on Billboard for 87 weeks"
   ]
  },
  {
   "cell_type": "code",
   "execution_count": 35,
   "metadata": {},
   "outputs": [
    {
     "name": "stdout",
     "output_type": "stream",
     "text": [
      "<class 'pandas.core.frame.DataFrame'>\n",
      "Int64Index: 160000 entries, 0 to 159999\n",
      "Data columns (total 7 columns):\n",
      " #   Column          Non-Null Count   Dtype  \n",
      "---  ------          --------------   -----  \n",
      " 0   rank            160000 non-null  int64  \n",
      " 1   song            160000 non-null  object \n",
      " 2   artist          160000 non-null  object \n",
      " 3   last-week       146078 non-null  float64\n",
      " 4   peak-rank       160000 non-null  int64  \n",
      " 5   weeks-on-board  160000 non-null  int64  \n",
      " 6   date            160000 non-null  object \n",
      "dtypes: float64(1), int64(3), object(3)\n",
      "memory usage: 9.8+ MB\n"
     ]
    }
   ],
   "source": [
    "df.info()"
   ]
  },
  {
   "cell_type": "code",
   "execution_count": 39,
   "metadata": {},
   "outputs": [
    {
     "data": {
      "text/plain": [
       "Text(0.5, 1.0, 'Correlation with each column')"
      ]
     },
     "execution_count": 39,
     "metadata": {},
     "output_type": "execute_result"
    },
    {
     "data": {
      "image/png": "[encoded data removed]",
      "text/plain": [
       "<Figure size 432x288 with 2 Axes>"
      ]
     },
     "metadata": {
      "needs_background": "light"
     },
     "output_type": "display_data"
    }
   ],
   "source": [
    "# calculate correlation matrix\n",
    "corr = df.corr()# plot the heatmap\n",
    "sns.heatmap(corr, xticklabels=corr.columns, yticklabels=corr.columns, annot=True, cmap=sns.diverging_palette(220, 20, as_cmap=True)).set_title(\"Correlation with each column\")\n",
    "#The peak rank is is generally loewwer than the peak rank and curren rank with a positive relation. "
   ]
  },
  {
   "cell_type": "code",
   "execution_count": 61,
   "metadata": {},
   "outputs": [
    {
     "data": {
      "text/plain": [
       "<AxesSubplot:xlabel='rank', ylabel='weeks-on-board'>"
      ]
     },
     "execution_count": 61,
     "metadata": {},
     "output_type": "execute_result"
    },
    {
     "data": {
      "image/png": "[encoded data removed]",
      "text/plain": [
       "<Figure size 432x288 with 1 Axes>"
      ]
     },
     "metadata": {
      "needs_background": "light"
     },
     "output_type": "display_data"
    }
   ],
   "source": [
    "df.plot(kind='scatter', x='rank', y='weeks-on-board')\n",
    "# there is a huge gap when at rank #50, rank above #50 tends to stay in the chart longer, which means that the better song ranked, the longer sonf stayed"
   ]
  },
  {
   "cell_type": "code",
   "execution_count": 63,
   "metadata": {},
   "outputs": [
    {
     "data": {
      "text/plain": [
       "<AxesSubplot:xlabel='peak-rank', ylabel='weeks-on-board'>"
      ]
     },
     "execution_count": 63,
     "metadata": {},
     "output_type": "execute_result"
    },
    {
     "data": {
      "image/png": "[encoded data removed]",
      "text/plain": [
       "<Figure size 432x288 with 1 Axes>"
      ]
     },
     "metadata": {
      "needs_background": "light"
     },
     "output_type": "display_data"
    }
   ],
   "source": [
    "df.plot(kind='scatter', x='peak-rank', y='weeks-on-board')\n",
    "#the higher song peak-ranked, the longer they stayed"
   ]
  },
  {
   "cell_type": "code",
   "execution_count": 41,
   "metadata": {},
   "outputs": [
    {
     "data": {
      "text/plain": [
       "rank                                                            100\n",
       "song                                                     www.memory\n",
       "artist            will.i.am Featuring Miley Cyrus, French Montan...\n",
       "last-week                                                     100.0\n",
       "peak-rank                                                       100\n",
       "weeks-on-board                                                   87\n",
       "date                                                     2021-07-17\n",
       "dtype: object"
      ]
     },
     "execution_count": 41,
     "metadata": {},
     "output_type": "execute_result"
    }
   ],
   "source": [
    "df.max()\n",
    "#this song has stayed in billboard the longest "
   ]
  },
  {
   "cell_type": "code",
   "execution_count": 44,
   "metadata": {},
   "outputs": [
    {
     "data": {
      "text/plain": [
       "'Taylor Swift'"
      ]
     },
     "execution_count": 44,
     "metadata": {},
     "output_type": "execute_result"
    }
   ],
   "source": [
    "df['artist'].value_counts().idxmax()\n",
    "# Taylor Swift is the artist that entered the Billboard the most."
   ]
  },
  {
   "cell_type": "code",
   "execution_count": 46,
   "metadata": {},
   "outputs": [
    {
     "data": {
      "text/plain": [
       "'Stay'"
      ]
     },
     "execution_count": 46,
     "metadata": {},
     "output_type": "execute_result"
    }
   ],
   "source": [
    "df['song'].value_counts().idxmax()\n",
    "#The song named \"stay\" has appear in the Board the most"
   ]
  },
  {
   "cell_type": "code",
   "execution_count": 50,
   "metadata": {},
   "outputs": [
    {
     "data": {
      "image/png": "[encoded data removed]",
      "text/plain": [
       "<Figure size 432x288 with 1 Axes>"
      ]
     },
     "metadata": {
      "needs_background": "light"
     },
     "output_type": "display_data"
    }
   ],
   "source": [
    "boxplot = df.boxplot(grid=False, vert=False,fontsize=15)\n",
    "#Songs normally last 5-20 weeks, and the peak rank of songs normally are at #10 to #60"
   ]
  },
  {
   "cell_type": "code",
   "execution_count": 58,
   "metadata": {},
   "outputs": [
    {
     "data": {
      "text/plain": [
       "<seaborn.axisgrid.JointGrid at 0x14c3cb83550>"
      ]
     },
     "execution_count": 58,
     "metadata": {},
     "output_type": "execute_result"
    },
    {
     "data": {
      "image/png": "[encoded data removed]",
      "text/plain": [
       "<Figure size 432x432 with 3 Axes>"
      ]
     },
     "metadata": {
      "needs_background": "light"
     },
     "output_type": "display_data"
    }
   ],
   "source": [
    "sns.jointplot(x='weeks-on-board', y='peak-rank', data=df, kind='reg')"
   ]
  },
  {
   "cell_type": "markdown",
   "metadata": {},
   "source": [
    "### Method Chaing "
   ]
  },
  {
   "cell_type": "code",
   "execution_count": 60,
   "metadata": {},
   "outputs": [],
   "source": [
    "def load_and_process(df):\n",
    "    df1=(\n",
    "        pd.read_csv(\"D:\\charts.csv.zip\")\n",
    "        .columns\n",
    "        .drop(df.index[160000:328487])\n",
    "        .nunique(axis=0)\n",
    "        .info()\n",
    "    )\n",
    "    df2=(\n",
    "        df1\n",
    "        .plot(kind='scatter', x='rank', y='weeks-on-board')\n",
    "        .plot(kind='scatter', x='peak-rank', y='weeks-on-board')\n",
    "        .max()\n",
    "        ['artist'].value_counts().idxmax()\n",
    "        ['song'].value_counts().idxmax()\n",
    "    )\n",
    "    return df2"
   ]
  },
  {
   "cell_type": "markdown",
   "metadata": {},
   "source": [
    "### Conclusion "
   ]
  },
  {
   "cell_type": "markdown",
   "metadata": {},
   "source": [
    "- There are 10630 songs in total. 5421 artist and one song stayed on Billboard for 87 weeks\n",
    "- the peak rank is is generally loewwer than the peak rank and curren rank with a positive relation\n",
    "- there is a huge gap when at rank #50, rank above #50 tends to stay in the chart longer, which means that the better song ranked- \n",
    "- the longer sonf stayed.the higher song peak-ranked, the longer they stayed.This song has stayed in billboard the longest.\n",
    "- Taylor Swift is the artist that entered the Billboard the most.\n",
    "- The song named \"stay\" has appear in the Board the most\n",
    "- Songs normally last 5-20 weeks, and the peak rank of songs normally are at #10 to #60"
   ]
  }
 ],
 "metadata": {
  "kernelspec": {
   "display_name": "Python 3 (ipykernel)",
   "language": "python",
   "name": "python3"
  },
  "language_info": {
   "codemirror_mode": {
    "name": "ipython",
    "version": 3
   },
   "file_extension": ".py",
   "mimetype": "text/x-python",
   "name": "python",
   "nbconvert_exporter": "python",
   "pygments_lexer": "ipython3",
   "version": "3.9.5"
  }
 },
 "nbformat": 4,
 "nbformat_minor": 4
}
